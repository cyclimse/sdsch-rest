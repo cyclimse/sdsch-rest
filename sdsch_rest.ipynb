{
 "cells": [
  {
   "cell_type": "markdown",
   "id": "limited-peace",
   "metadata": {},
   "source": [
    "# SDSCH Rest\n",
    "Welcome! The purpose of this exercise is to create a small lightning control system. This system will rely on a REST service to which the devices will send requests.\n",
    "\n",
    "You can find the devices on [this website](https://cyclimse.github.io/sdsch-rest/) or you can use the embedded version below. It's up to you!"
   ]
  },
  {
   "cell_type": "code",
   "execution_count": 57,
   "metadata": {},
   "outputs": [
    {
     "output_type": "execute_result",
     "data": {
      "text/plain": [
       "<IPython.core.display.HTML object>"
      ],
      "text/html": "<iframe src=https://cyclimse.github.io/sdsch-rest/ width=700 height=700></iframe>"
     },
     "metadata": {},
     "execution_count": 57
    }
   ],
   "source": [
    "import IPython\n",
    "url = 'https://cyclimse.github.io/sdsch-rest/'\n",
    "iframe = '<iframe src=' + url + ' width=700 height=700></iframe>'\n",
    "IPython.display.HTML(iframe)"
   ]
  },
  {
   "source": [
    "Try to play around with the buttons on each device. You may notice that the requests of each device is being logged into the terminal.\n",
    "Currently, not much is happening because we have yet to create the service the devices will talk to. Let's do it!"
   ],
   "cell_type": "markdown",
   "metadata": {}
  },
  {
   "cell_type": "code",
   "execution_count": 58,
   "id": "approved-barcelona",
   "metadata": {},
   "outputs": [],
   "source": [
    "from flask import Flask, jsonify, request, Response\n",
    "from flask_cors import CORS\n",
    "\n",
    "# Flask is a very popular framework for creating HTTP servers in Python, you can find out more the project website:\n",
    "# https://flask.palletsprojects.com/en/1.1.x/\n",
    "app = Flask(__name__)\n",
    "\n",
    "# Because we serve the app and send request from two distinct servers,\n",
    "# we use CORS to let the browser figure it out with the backend. \n",
    "cors = CORS(app)"
   ]
  },
  {
   "cell_type": "code",
   "execution_count": 59,
   "id": "secure-venice",
   "metadata": {},
   "outputs": [],
   "source": [
    "last_temperature = 0\n",
    "\n",
    "# In flask, you can use a variety of syntax to create new routes.\n",
    "# Here, we will be using a decorator to indicate the route om which to mount our handler.\n",
    "@app.route(\"/therm\", methods=[\"POST\"])\n",
    "def thermHandler():\n",
    "    global last_temperature\n",
    "    data = request.get_json()\n",
    "    last_temperature = data[\"temperature\"]\n",
    "    return Response(status=201)\n",
    "\n",
    "@app.route(\"/lamp\", methods=[\"GET\"])\n",
    "def lampHandler():\n",
    "    global last_temperature\n",
    "    if last_temperature > 20:\n",
    "        return jsonify({\"color\":\"red\", \"intensity\": 100, \"frequency\": 60.0/0.5})\n",
    "    else:\n",
    "        # Complete the code!\n",
    "        # What could you change to notify the user if the room is getting chilly?\n",
    "        return jsonify({})"
   ]
  },
  {
   "source": [
    "Without running the code, try to figure out what it does. Can you see any problem with the current implementation ?\n",
    "\n",
    "We will discuss this a bit latter. Right now, we will try and launch our newly created API."
   ],
   "cell_type": "markdown",
   "metadata": {}
  },
  {
   "cell_type": "code",
   "execution_count": null,
   "id": "international-stupid",
   "metadata": {
    "tags": []
   },
   "outputs": [],
   "source": [
    "app.run(debug=False, port=5005)"
   ]
  },
  {
   "source": [
    "Let's check if it's running properly! We could use the web application, but a lot of the times when working with APIs, we work on the server before the client. In the other words, we may not always have a client to test our API with.\n",
    "\n",
    "However, because HTTP requests are generic, we can use our browser to partially check the behavior of our API. Try loading http://localhost:5005/lamp in your browser of choice. What do you see?"
   ],
   "cell_type": "markdown",
   "metadata": {}
  },
  {
   "source": [
    "We can also try to check the behavior of our API with some command line tools. We will be using the utility curl. Here we will check if the temperature gets updated when we perform a POST request on /therm. \n",
    "\n",
    "```console\n",
    "curl -X POST -H \"Content-Type: application/json\" http://localhost:5005/therm -d '{\"temperature\":25}'\n",
    "```\n",
    "\n",
    "The -X flags specify the type of request. Additionally, we set the header field \"Content-type\" to specify to the server that we will be expecting a json response. Finally, we pass as data the json object that we will be posting.\n",
    "\n",
    "Try to craft a `curl` command to GET the status of the lamp!\n",
    "\n",
    "`curl` is a very powerful piece of utility. With the right API, you can even use it to send [emails](https://sendgrid.com/)!"
   ],
   "cell_type": "markdown",
   "metadata": {}
  },
  {
   "source": [
    "Let's get back to our server. Now switching between two colors is not ideal. Try to use multiple colors. You can even try to create a gradient. Here is a small [tutorial](https://bsouthga.dev/posts/color-gradients-with-python) on color gradients in Python. "
   ],
   "cell_type": "markdown",
   "metadata": {}
  },
  {
   "cell_type": "code",
   "execution_count": null,
   "metadata": {},
   "outputs": [],
   "source": [
    "def get_color(temperature):\n",
    "    # Try to come up with something beautiful!\n",
    "    # Dont forget to use this in your handler for /lamp.\n",
    "    pass"
   ]
  },
  {
   "source": [
    "Now, something is not quite right! The thermometer only post the temperature every so often, while the lamp request it more frequently. As a result, the temperature shifts are quite herky jerky.\n",
    "\n",
    "How could you adjust your code to make the transition smoother ?"
   ],
   "cell_type": "markdown",
   "metadata": {}
  },
  {
   "source": [
    "Up until now, you were guided heavily. Now it's your turn to be in charge! \n",
    "\n",
    "There's one device we haven't talked about yet: the led band. It's a collection of colored lamps.\n",
    "\n",
    "Try and figure out how you could control it from the server by using the console on the website. Your task will be to come up with the prettiest and most elaborate animations using the LEDs.\n",
    "\n",
    "Have fun!\n",
    "\n",
    "PS: some mistakes are hidden in this lab! Bonus points if you can find them all. Hint: are all REST constraints that you've seen in the course properly respected?"
   ],
   "cell_type": "markdown",
   "metadata": {}
  }
 ],
 "metadata": {
  "kernelspec": {
   "name": "python3",
   "display_name": "Python 3.9.2 64-bit ('sdsch-venv')",
   "metadata": {
    "interpreter": {
     "hash": "b64293502deaedaf7fab262663a1c6aa567aeb2daa841de29df3d5a47da5975c"
    }
   }
  },
  "language_info": {
   "codemirror_mode": {
    "name": "ipython",
    "version": 3
   },
   "file_extension": ".py",
   "mimetype": "text/x-python",
   "name": "python",
   "nbconvert_exporter": "python",
   "pygments_lexer": "ipython3",
   "version": "3.9.2-final"
  }
 },
 "nbformat": 4,
 "nbformat_minor": 5
}