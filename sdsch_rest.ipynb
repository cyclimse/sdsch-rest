{
 "cells": [
  {
   "cell_type": "markdown",
   "id": "limited-peace",
   "metadata": {},
   "source": [
    "# Creation"
   ]
  },
  {
   "cell_type": "code",
   "execution_count": null,
   "id": "approved-barcelona",
   "metadata": {},
   "outputs": [],
   "source": [
    "from flask import Flask, jsonify, request, Response\n",
    "from flask_cors import CORS\n",
    "app = Flask(__name__)\n",
    "cors = CORS(app)"
   ]
  },
  {
   "cell_type": "code",
   "execution_count": null,
   "id": "secure-venice",
   "metadata": {},
   "outputs": [],
   "source": [
    "last_temperature = 0\n",
    "@app.route(\"/therm\", methods=[\"POST\"])\n",
    "def thermHandler():\n",
    "    global last_temperature\n",
    "    data = request.get_json()\n",
    "    last_temperature = data[\"temperature\"]\n",
    "    return Response(status=201)\n",
    "\n",
    "@app.route(\"/lamp\", methods=[\"GET\"])\n",
    "def lampHandler():\n",
    "    global last_temperature\n",
    "    if last_temperature > 20:\n",
    "        return jsonify({\"color\":\"red\", \"intensity\": 100, \"frequency\": 60.0/0.5})\n",
    "    else:\n",
    "        return jsonify({\"color\":\"blue\", \"intensity\": 100, \"frequency\": 60.0/0.5})"
   ]
  },
  {
   "cell_type": "code",
   "execution_count": null,
   "id": "international-stupid",
   "metadata": {
    "tags": []
   },
   "outputs": [],
   "source": [
    "app.run(debug=False, port=5005)"
   ]
  }
 ],
 "metadata": {
  "kernelspec": {
   "name": "python3",
   "display_name": "Python 3.9.2 64-bit ('sdsch-venv')",
   "metadata": {
    "interpreter": {
     "hash": "b64293502deaedaf7fab262663a1c6aa567aeb2daa841de29df3d5a47da5975c"
    }
   }
  },
  "language_info": {
   "codemirror_mode": {
    "name": "ipython",
    "version": 3
   },
   "file_extension": ".py",
   "mimetype": "text/x-python",
   "name": "python",
   "nbconvert_exporter": "python",
   "pygments_lexer": "ipython3",
   "version": "3.9.2-final"
  }
 },
 "nbformat": 4,
 "nbformat_minor": 5
}